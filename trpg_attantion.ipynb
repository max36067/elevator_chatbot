{
 "nbformat": 4,
 "nbformat_minor": 2,
 "metadata": {
  "language_info": {
   "name": "python",
   "codemirror_mode": {
    "name": "ipython",
    "version": 3
   },
   "version": "3.7.4"
  },
  "orig_nbformat": 2,
  "file_extension": ".py",
  "mimetype": "text/x-python",
  "name": "python",
  "npconvert_exporter": "python",
  "pygments_lexer": "ipython3",
  "version": 3
 },
 "cells": [
  {
   "source": [
    "'''\n",
    "啟動伺服器樣板\n",
    "'''\n",
    "from flask import Flask,request,abort\n",
    "from linebot import LineBotApi,WebhookHandler\n",
    "from linebot.exceptions import InvalidSignatureError\n",
    "import json\n",
    "\n",
    "secret_file = json.load(open('line_bot_secret_key.json','r'))\n",
    "server_url = secret_file.get('server_url')\n",
    "app = Flask(__name__,static_url_path='/image_trpg_elevator',static_folder='../image_trpg_elevator')\n",
    "\n",
    "line_bot_api = LineBotApi(secret_file.get(\"channel_access_token\"))\n",
    "handler = WebhookHandler('99f76d3a1e50aa9805bc4362dd5b7766')\n",
    "\n",
    "@app.route('/',method = ['POST'])\n",
    "def callback():\n",
    "    signature = request.headers['X-Link-Signature']\n",
    "    body = request.get_data(as_text=True)\n",
    "    app.logger.info('Request body:' + body)\n",
    "\n",
    "    try:\n",
    "        handler.handle(body,signature)\n",
    "    except:\n",
    "        abort(400)\n",
    "    return \"OK\""
   ],
   "cell_type": "code",
   "outputs": [],
   "metadata": {},
   "execution_count": 0
  },
  {
   "source": [
    "from linebot.models import MessageEvent, TextMessage, TextSendMessage, ImageSendMessage\n",
    "\n",
    "# 關注時就發消息\n",
    "reply_message_list = [\n",
    "ImageSendMessage(original_content_url='https://{}/warning.png'.format(server_url)),\n",
    "    TextSendMessage(text='本遊戲含有恐怖及克蘇魯神話成分，請斟酌遊玩')\n",
    "]"
   ],
   "cell_type": "code",
   "outputs": [],
   "metadata": {},
   "execution_count": 0
  },
  {
   "source": [
    "if __name__ =='__main__':\n",
    "    app.run(host='0.0.0.0')"
   ],
   "cell_type": "code",
   "outputs": [],
   "metadata": {},
   "execution_count": 0
  }
 ]
}