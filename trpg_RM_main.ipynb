{
 "nbformat": 4,
 "nbformat_minor": 2,
 "metadata": {
  "language_info": {
   "name": "python",
   "codemirror_mode": {
    "name": "ipython",
    "version": 3
   },
   "version": "3.7.4"
  },
  "orig_nbformat": 2,
  "file_extension": ".py",
  "mimetype": "text/x-python",
  "name": "python",
  "npconvert_exporter": "python",
  "pygments_lexer": "ipython3",
  "version": 3
 },
 "cells": [
  {
   "source": [
    "line_bot_api = LineBotApi(secret_file.get(\"channel_access_token\"))\n",
    "\n",
    "# 請line_bot_api上傳圖文選單給line\n",
    "MainMenu = json.load(open('rich_menu_main.json','rb'))\n",
    "LineRichMenuMainID = line_bot_api.create_rich_menu(rich_menu=RichMenu.new_from_json_dict(MainMenu))\n",
    "print(LineRichMenuMainID)\n",
    ""
   ],
   "cell_type": "code",
   "outputs": [
    {
     "output_type": "stream",
     "name": "stdout",
     "text": "richmenu-b5059bec0da7a1b58cb52b1afee5cb94\n"
    }
   ],
   "metadata": {},
   "execution_count": 5
  },
  {
   "source": [
    "# 用line_bot_api載入照片\n",
    "upload_RM_main = open(\"image_trpg\\\\cosulu.jpg\",'rb')\n",
    "\n",
    "setImage_RM_main = line_bot_api.set_rich_menu_image(LineRichMenuMainID,\"image/png\",upload_RM_main)\n",
    "print(setImage_RM_main)"
   ],
   "cell_type": "code",
   "outputs": [
    {
     "output_type": "stream",
     "name": "stdout",
     "text": "None\n"
    }
   ],
   "metadata": {},
   "execution_count": 6
  },
  {
   "source": [
    "linkResult = line_bot_api.link_rich_menu_to_user(secret_file[\"self_user_id\"],LineRichMenuMainID)\n",
    "# 將圖文選單跟用戶綁定\n",
    "print(linkResult)\n",
    ""
   ],
   "cell_type": "code",
   "outputs": [
    {
     "output_type": "stream",
     "name": "stdout",
     "text": "None\n"
    }
   ],
   "metadata": {},
   "execution_count": 12
  },
  {
   "source": [
    "rich_menu_id = line_bot_api.get_rich_menu_id_of_user(secret_file[\"self_user_id\"])\n",
    "print(rich_menu_id)"
   ],
   "cell_type": "code",
   "outputs": [
    {
     "output_type": "stream",
     "name": "stdout",
     "text": "richmenu-b5059bec0da7a1b58cb52b1afee5cb94\n"
    }
   ],
   "metadata": {},
   "execution_count": 13
  },
  {
   "cell_type": "code",
   "execution_count": null,
   "metadata": {},
   "outputs": [],
   "source": []
  },
  {
   "source": [
    "import json,requests\n",
    "from linebot import LineBotApi,WebhookHandler\n",
    "from linebot.models import RichMenu\n",
    "\n",
    "# 開啟secretkey準備與line做連結\n",
    "secret_file = json.load(open('line_bot_secret_key.json','r',encoding='utf-8'))\n",
    "\n",
    "print(secret_file.get(\"channel_access_token\"))\n",
    "print(secret_file.get(\"secret_key\"))\n",
    "print(secret_file.get(\"self_user_id\"))"
   ],
   "cell_type": "code",
   "outputs": [
    {
     "output_type": "stream",
     "name": "stdout",
     "text": "0ftSvV+GEEzznrKvuPv6GEF5eemIk/YxsFUVtG+NLO0eO9voO8R5xvTuam8GEAvuab9eVKCnC4wI2szzvjZJ1Hi0ZJhRMFnAUZWbm8So1+PbQp1+bzokq/3lMr749B183O6+v0Y7uqwFURKe0HPnGAdB04t89/1O/w1cDnyilFU=\n99f76d3a1e50aa9805bc4362dd5b7766\nUfd89b4fd11c95d8fb5ad1a4c4fef3159\n"
    }
   ],
   "metadata": {},
   "execution_count": 4
  }
 ]
}