{
 "cells": [
  {
   "cell_type": "code",
   "execution_count": 9,
   "metadata": {},
   "outputs": [],
   "source": [
    "'''\n",
    "啟動伺服器樣板\n",
    "'''\n",
    "from flask import Flask,request,abort\n",
    "from linebot import LineBotApi,WebhookHandler\n",
    "from linebot.exceptions import InvalidSignatureError\n",
    "import json\n",
    "\n",
    "secret_file = json.load(open('line_bot_secret_key.json','r'))\n",
    "server_url = secret_file.get('server_url')\n",
    "app = Flask(__name__,static_url_path='/image_trpg_elevator',static_folder='../image_trpg_elevator/')\n",
    "\n",
    "line_bot_api = LineBotApi(secret_file.get(\"channel_access_token\"))\n",
    "handler = WebhookHandler(secret_file.get('secret_key'))\n",
    "\n",
    "@app.route('/',methods = ['POST'])\n",
    "def callback():\n",
    "    signature = request.headers['X-Link-Signature']\n",
    "    body = request.get_data(as_text=True)\n",
    "    app.logger.info('Request body:' + body)\n",
    "\n",
    "    try:\n",
    "        handler.handle(body,signature)\n",
    "    except:\n",
    "        abort(400)\n",
    "    return \"OK\""
   ]
  },
  {
   "cell_type": "code",
   "execution_count": 10,
   "metadata": {},
   "outputs": [],
   "source": [
    "from linebot.models import TextSendMessage,ImageSendMessage,MessageEvent,TextMessage\n",
    "# 消息製作\n",
    "reply_message_list = [\n",
    "ImageSendMessage(original_content_url='https://{}/warning.png'.format(server_url)),\n",
    "    TextSendMessage(text='本遊戲含有恐怖及克蘇魯神話成分，請斟酌遊玩')\n",
    "]"
   ]
  },
  {
   "cell_type": "code",
   "execution_count": 11,
   "metadata": {},
   "outputs": [],
   "source": [
    "from linebot.models.events import FollowEvent\n",
    "import requests\n",
    "\n",
    "# 這裡是在做發消息及取個資的動作\n",
    "\n",
    "@handler.add(FollowEvent)\n",
    "def reply_user_and_get_user_id(event):\n",
    "    user_profile = line_bot_api.get_profile(event.source.user_id)\n",
    "    with open('../users_profile.txt','a') as us_file:\n",
    "        us_file.write(json.dumps(vars(user_profile),sort_keys=True))\n",
    "        us_file.write('\\r\\n')\n",
    "\n",
    "    # 綁定圖文選單\n",
    "    LineRichMenuMainID = secret_file.get('rich_menu_id')\n",
    "    linkResult = line_bot_api.link_rich_menu_to_user(secret_file[\"self_user_id\"],LineRichMenuMainID)\n",
    "\n",
    "    # 關注回應\n",
    "    line_bot_api.reply_message(\n",
    "        event.reply_token,\n",
    "        reply_message_list\n",
    "    )"
   ]
  },
  {
   "cell_type": "code",
   "execution_count": 12,
   "metadata": {},
   "outputs": [
    {
     "name": "stdout",
     "output_type": "stream",
     "text": [
      "* Serving Flask app \"__main__\" (lazy loading)\n",
      " * Environment: production\n",
      "   WARNING: This is a development server. Do not use it in a production deployment.\n",
      "   Use a production WSGI server instead.\n",
      " * Debug mode: off\n",
      " * Running on http://0.0.0.0:5000/ (Press CTRL+C to quit)\n"
     ]
    }
   ],
   "source": [
    "if __name__ =='__main__':\n",
    "    app.run(host = '0.0.0.0')"
   ]
  }
 ],
 "metadata": {
  "file_extension": ".py",
  "kernelspec": {
   "display_name": "Python 3",
   "language": "python",
   "name": "python3"
  },
  "language_info": {
   "codemirror_mode": {
    "name": "ipython",
    "version": 3
   },
   "file_extension": ".py",
   "mimetype": "text/x-python",
   "name": "python",
   "nbconvert_exporter": "python",
   "pygments_lexer": "ipython3",
   "version": "3.7.4"
  },
  "mimetype": "text/x-python",
  "name": "python",
  "npconvert_exporter": "python",
  "pygments_lexer": "ipython3",
  "version": 3
 },
 "nbformat": 4,
 "nbformat_minor": 2
}
